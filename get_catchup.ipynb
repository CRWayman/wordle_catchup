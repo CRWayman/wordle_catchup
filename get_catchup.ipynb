{
 "cells": [
  {
   "cell_type": "code",
   "execution_count": 1,
   "id": "b33241b8",
   "metadata": {},
   "outputs": [],
   "source": [
    "import requests\n",
    "import pandas as pd\n",
    "\n",
    "from bs4 import BeautifulSoup\n",
    "from datetime import datetime, timedelta\n",
    "from dateutil import parser"
   ]
  },
  {
   "cell_type": "code",
   "execution_count": 2,
   "id": "11e0e693",
   "metadata": {},
   "outputs": [],
   "source": [
    "# Scrape daily Wordle answers\n",
    "url = \"https://wordfinder.yourdictionary.com/wordle/answers/\"\n",
    "\n",
    "# Fetch site html\n",
    "r = requests.get(url)\n",
    "\n",
    "# Parse html\n",
    "soup = BeautifulSoup(r.content, \"html5lib\")"
   ]
  },
  {
   "cell_type": "code",
   "execution_count": 3,
   "id": "82ec46fc",
   "metadata": {},
   "outputs": [],
   "source": [
    "# Find today's date\n",
    "today = soup.find(\"div\", {\"class\":\"wordle-answer-section\"})\n",
    "today_string = today.text\n",
    "\n",
    "# Parse date from string\n",
    "today_date = parser.parse(today_string, fuzzy=True)\n",
    "\n",
    "# Advance backwards by one day to remove today's date\n",
    "end_date = today_date + timedelta(days=-1)"
   ]
  },
  {
   "cell_type": "code",
   "execution_count": 4,
   "id": "e3259a98",
   "metadata": {},
   "outputs": [
    {
     "name": "stdout",
     "output_type": "stream",
     "text": [
      "DatetimeIndex(['2021-06-19', '2021-06-20', '2021-06-21', '2021-06-22',\n",
      "               '2021-06-23', '2021-06-24', '2021-06-25', '2021-06-26',\n",
      "               '2021-06-27', '2021-06-28',\n",
      "               ...\n",
      "               '2022-11-25', '2022-11-26', '2022-11-27', '2022-11-28',\n",
      "               '2022-11-29', '2022-11-30', '2022-12-01', '2022-12-02',\n",
      "               '2022-12-03', '2022-12-04'],\n",
      "              dtype='datetime64[ns]', length=534, freq='D')\n"
     ]
    }
   ],
   "source": [
    "# Create datetime sequence from date of first Wordle until today\n",
    "wordle_dates = pd.date_range(start=\"2021-06-19\", end=end_date)\n",
    "print(wordle_dates)"
   ]
  },
  {
   "cell_type": "code",
   "execution_count": 5,
   "id": "788080e7",
   "metadata": {},
   "outputs": [
    {
     "data": {
      "text/html": [
       "<div>\n",
       "<style scoped>\n",
       "    .dataframe tbody tr th:only-of-type {\n",
       "        vertical-align: middle;\n",
       "    }\n",
       "\n",
       "    .dataframe tbody tr th {\n",
       "        vertical-align: top;\n",
       "    }\n",
       "\n",
       "    .dataframe thead th {\n",
       "        text-align: right;\n",
       "    }\n",
       "</style>\n",
       "<table border=\"1\" class=\"dataframe\">\n",
       "  <thead>\n",
       "    <tr style=\"text-align: right;\">\n",
       "      <th></th>\n",
       "      <th>Date</th>\n",
       "      <th>Wordle #</th>\n",
       "      <th>Answer</th>\n",
       "    </tr>\n",
       "  </thead>\n",
       "  <tbody>\n",
       "    <tr>\n",
       "      <th>0</th>\n",
       "      <td>Dec. 04</td>\n",
       "      <td>533</td>\n",
       "      <td>ADORE</td>\n",
       "    </tr>\n",
       "    <tr>\n",
       "      <th>1</th>\n",
       "      <td>Dec. 03</td>\n",
       "      <td>532</td>\n",
       "      <td>TORSO</td>\n",
       "    </tr>\n",
       "    <tr>\n",
       "      <th>2</th>\n",
       "      <td>Dec. 02</td>\n",
       "      <td>531</td>\n",
       "      <td>CHAFE</td>\n",
       "    </tr>\n",
       "    <tr>\n",
       "      <th>3</th>\n",
       "      <td>Dec. 01</td>\n",
       "      <td>530</td>\n",
       "      <td>EJECT</td>\n",
       "    </tr>\n",
       "    <tr>\n",
       "      <th>4</th>\n",
       "      <td>Nov. 30</td>\n",
       "      <td>529</td>\n",
       "      <td>STUDY</td>\n",
       "    </tr>\n",
       "  </tbody>\n",
       "</table>\n",
       "</div>"
      ],
      "text/plain": [
       "      Date  Wordle # Answer\n",
       "0  Dec. 04       533  ADORE\n",
       "1  Dec. 03       532  TORSO\n",
       "2  Dec. 02       531  CHAFE\n",
       "3  Dec. 01       530  EJECT\n",
       "4  Nov. 30       529  STUDY"
      ]
     },
     "execution_count": 5,
     "metadata": {},
     "output_type": "execute_result"
    }
   ],
   "source": [
    "# Create data frame from all the answers\n",
    "df = pd.read_html(url, index_col=0)\n",
    "df = pd.concat(df).reset_index()\n",
    "\n",
    "df.head()"
   ]
  },
  {
   "cell_type": "code",
   "execution_count": 6,
   "id": "87ed5ca5",
   "metadata": {},
   "outputs": [
    {
     "data": {
      "text/html": [
       "<div>\n",
       "<style scoped>\n",
       "    .dataframe tbody tr th:only-of-type {\n",
       "        vertical-align: middle;\n",
       "    }\n",
       "\n",
       "    .dataframe tbody tr th {\n",
       "        vertical-align: top;\n",
       "    }\n",
       "\n",
       "    .dataframe thead th {\n",
       "        text-align: right;\n",
       "    }\n",
       "</style>\n",
       "<table border=\"1\" class=\"dataframe\">\n",
       "  <thead>\n",
       "    <tr style=\"text-align: right;\">\n",
       "      <th></th>\n",
       "      <th>Date</th>\n",
       "      <th>Wordle #</th>\n",
       "      <th>Answer</th>\n",
       "    </tr>\n",
       "  </thead>\n",
       "  <tbody>\n",
       "    <tr>\n",
       "      <th>0</th>\n",
       "      <td>2022-12-04</td>\n",
       "      <td>533</td>\n",
       "      <td>ADORE</td>\n",
       "    </tr>\n",
       "    <tr>\n",
       "      <th>1</th>\n",
       "      <td>2022-12-03</td>\n",
       "      <td>532</td>\n",
       "      <td>TORSO</td>\n",
       "    </tr>\n",
       "    <tr>\n",
       "      <th>2</th>\n",
       "      <td>2022-12-02</td>\n",
       "      <td>531</td>\n",
       "      <td>CHAFE</td>\n",
       "    </tr>\n",
       "    <tr>\n",
       "      <th>3</th>\n",
       "      <td>2022-12-01</td>\n",
       "      <td>530</td>\n",
       "      <td>EJECT</td>\n",
       "    </tr>\n",
       "    <tr>\n",
       "      <th>4</th>\n",
       "      <td>2022-11-30</td>\n",
       "      <td>529</td>\n",
       "      <td>STUDY</td>\n",
       "    </tr>\n",
       "  </tbody>\n",
       "</table>\n",
       "</div>"
      ],
      "text/plain": [
       "        Date  Wordle # Answer\n",
       "0 2022-12-04       533  ADORE\n",
       "1 2022-12-03       532  TORSO\n",
       "2 2022-12-02       531  CHAFE\n",
       "3 2022-12-01       530  EJECT\n",
       "4 2022-11-30       529  STUDY"
      ]
     },
     "execution_count": 6,
     "metadata": {},
     "output_type": "execute_result"
    }
   ],
   "source": [
    "# Replace Date column with pandas date_range\n",
    "# Reverse values first so they're most recent to oldest\n",
    "df[\"Date\"] = wordle_dates.values[::-1]\n",
    "\n",
    "df.head()"
   ]
  }
 ],
 "metadata": {
  "kernelspec": {
   "display_name": "Python [conda env:dev] *",
   "language": "python",
   "name": "conda-env-dev-py"
  },
  "language_info": {
   "codemirror_mode": {
    "name": "ipython",
    "version": 3
   },
   "file_extension": ".py",
   "mimetype": "text/x-python",
   "name": "python",
   "nbconvert_exporter": "python",
   "pygments_lexer": "ipython3",
   "version": "3.11.0"
  }
 },
 "nbformat": 4,
 "nbformat_minor": 5
}
